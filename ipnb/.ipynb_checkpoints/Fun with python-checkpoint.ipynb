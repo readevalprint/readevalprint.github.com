{
 "metadata": {
  "name": "",
  "signature": "sha256:729cc6f53a9def2f6abfb186cee0538b377d2018e932dc916ced425517b70fb0"
 },
 "nbformat": 3,
 "nbformat_minor": 0,
 "worksheets": [
  {
   "cells": [
    {
     "cell_type": "markdown",
     "metadata": {},
     "source": [
      "## Let see what makes python tick...\n",
      "So python can be compiled into an Abstract Syntax Tree ([AST](https://docs.python.org/3/library/ast.html)). And there just happens to be a module with that exact name. Wonders never cease! Let's see what the normal print statement looks like..."
     ]
    },
    {
     "cell_type": "code",
     "collapsed": false,
     "input": [
      "#import the module\n",
      "import ast\n",
      "\n",
      "tree = ast.parse(\"print('hello world')\")\n",
      "print tree"
     ],
     "language": "python",
     "metadata": {},
     "outputs": [
      {
       "output_type": "stream",
       "stream": "stdout",
       "text": [
        "<_ast.Module object at 0x25cde10>\n"
       ]
      }
     ],
     "prompt_number": 86
    },
    {
     "cell_type": "markdown",
     "metadata": {},
     "source": [
      "Well that was less than interesting... But let's not pass judgement too soon. Who really _are_ you `<_ast.Module>`? What makes you tick? "
     ]
    },
    {
     "cell_type": "code",
     "collapsed": false,
     "input": [
      "exec(compile(tree, filename=\"<ast>\", mode=\"exec\"))"
     ],
     "language": "python",
     "metadata": {},
     "outputs": [
      {
       "output_type": "stream",
       "stream": "stdout",
       "text": [
        "hello world\n"
       ]
      }
     ],
     "prompt_number": 11
    },
    {
     "cell_type": "markdown",
     "metadata": {},
     "source": [
      "Ha! Well then... I do say... Something just happened. We were able to `compile` and run `tree` and it still worked! I want to tease it apart. See the gritty details. The first thing I would is print the `__dict__` on it. (haha what are these \"docs\" you speak of? Begone with you.)"
     ]
    },
    {
     "cell_type": "code",
     "collapsed": false,
     "input": [
      "tree.__dict__"
     ],
     "language": "python",
     "metadata": {},
     "outputs": [
      {
       "metadata": {},
       "output_type": "pyout",
       "prompt_number": 12,
       "text": [
        "{'body': [<_ast.Print at 0x25bdc50>]}"
       ]
      }
     ],
     "prompt_number": 12
    },
    {
     "cell_type": "markdown",
     "metadata": {},
     "source": [
      "Ok. Well there is `body` and it is a `list`... of one item. A certian `<_ast.Print>`. That makes sense because the original was just a print statement. She's a beauty, let's get a little closer."
     ]
    },
    {
     "cell_type": "code",
     "collapsed": false,
     "input": [
      "print_node = tree.body[0]\n",
      "print_node.__dict__"
     ],
     "language": "python",
     "metadata": {},
     "outputs": [
      {
       "metadata": {},
       "output_type": "pyout",
       "prompt_number": 20,
       "text": [
        "{'col_offset': 0,\n",
        " 'dest': None,\n",
        " 'lineno': 1,\n",
        " 'nl': True,\n",
        " 'values': [<_ast.Str at 0x25bdc90>]}"
       ]
      }
     ],
     "prompt_number": 20
    },
    {
     "cell_type": "markdown",
     "metadata": {},
     "source": [
      "This is cool! Now we can see it has a few more properties. `col_offset` and `lineno` are likly to be related to tracebacks. I could look it up. But that is not fun. No spoilers! The `values` property is a list and it contains a `<_ast.Str>` which does makes sense as the original goal was to print a string. "
     ]
    },
    {
     "cell_type": "code",
     "collapsed": false,
     "input": [
      "string_node = print_node.values[0]\n",
      "string_node.__dict__"
     ],
     "language": "python",
     "metadata": {},
     "outputs": [
      {
       "metadata": {},
       "output_type": "pyout",
       "prompt_number": 22,
       "text": [
        "{'col_offset': 6, 'lineno': 1, 's': 'hello world'}"
       ]
      }
     ],
     "prompt_number": 22
    },
    {
     "cell_type": "markdown",
     "metadata": {},
     "source": [
      "And there you go! `<_ast.Str>` has a `s` property that is in fact the profound greeting we had intstructed it to proclaim. The mighty \"hello world\"! But that's old news. In this modern and international world, we like to be a bit more forward thinking. Let's use Portuguese!"
     ]
    },
    {
     "cell_type": "code",
     "collapsed": false,
     "input": [
      "string_node.s = \"Oi Mundo!\"\n",
      "string_node.__dict__"
     ],
     "language": "python",
     "metadata": {},
     "outputs": [
      {
       "metadata": {},
       "output_type": "pyout",
       "prompt_number": 24,
       "text": [
        "{'col_offset': 6, 'lineno': 1, 's': 'Oi Mundo!'}"
       ]
      }
     ],
     "prompt_number": 24
    },
    {
     "cell_type": "code",
     "collapsed": false,
     "input": [
      "exec(compile(tree, filename=\"<ast>\", mode=\"exec\"))"
     ],
     "language": "python",
     "metadata": {},
     "outputs": [
      {
       "output_type": "stream",
       "stream": "stdout",
       "text": [
        "Oi Mundo!\n"
       ]
      }
     ],
     "prompt_number": 25
    },
    {
     "cell_type": "markdown",
     "metadata": {},
     "source": [
      "Yay! It worked! But the inital thrill is wearing off. I need something more. Something stronger."
     ]
    },
    {
     "cell_type": "code",
     "collapsed": false,
     "input": [
      "# This is obviously not going to work\n",
      "'a' ^ 'b'"
     ],
     "language": "python",
     "metadata": {},
     "outputs": [
      {
       "ename": "TypeError",
       "evalue": "unsupported operand type(s) for ^: 'str' and 'str'",
       "output_type": "pyerr",
       "traceback": [
        "\u001b[1;31m---------------------------------------------------------------------------\u001b[0m\n\u001b[1;31mTypeError\u001b[0m                                 Traceback (most recent call last)",
        "\u001b[1;32m<ipython-input-37-8496cbf2925d>\u001b[0m in \u001b[0;36m<module>\u001b[1;34m()\u001b[0m\n\u001b[0;32m      1\u001b[0m \u001b[1;31m# This is obviously not going to work\u001b[0m\u001b[1;33m\u001b[0m\u001b[1;33m\u001b[0m\u001b[0m\n\u001b[1;32m----> 2\u001b[1;33m \u001b[1;34m'a'\u001b[0m \u001b[1;33m^\u001b[0m \u001b[1;34m'b'\u001b[0m\u001b[1;33m\u001b[0m\u001b[0m\n\u001b[0m",
        "\u001b[1;31mTypeError\u001b[0m: unsupported operand type(s) for ^: 'str' and 'str'"
       ]
      }
     ],
     "prompt_number": 37
    },
    {
     "cell_type": "markdown",
     "metadata": {},
     "source": [
      "What was I thinking? Am I insane? One does not merely XOR two strings. That is path of darkness, madness, and `TypeErrors`. No, no, this will not do at all. Let us fix this. Because I don't just WANT to `^` one string to another. I **need** to. It's a deeper, more **fundamental** yearning in my loins. Because that is were all great thoughts originate. Your loins. Heh. Loin."
     ]
    },
    {
     "cell_type": "code",
     "collapsed": false,
     "input": [
      "tree2 = ast.parse(\"'cat' ^ 'dog'\")\n",
      "print tree2"
     ],
     "language": "python",
     "metadata": {},
     "outputs": [
      {
       "output_type": "stream",
       "stream": "stdout",
       "text": [
        "<_ast.Module object at 0x257b910>\n"
       ]
      }
     ],
     "prompt_number": 349
    },
    {
     "cell_type": "markdown",
     "metadata": {},
     "source": [
      "Ugh this no longer amuses me. This `<_ast.Module>` hiding all the juicy filling behind a boring facade. I want more instanter gratification. So how about we take a detour to shave a yak. Nay, full body wax it. If Django is a pony with wings, this will be the worlds most aerodynamic yak. Like a rocket. Rocket Yak."
     ]
    },
    {
     "cell_type": "code",
     "collapsed": false,
     "input": [
      "def parse_ast(node):\n",
      "    # check if this is a node or list \n",
      "    if isinstance(node, list):\n",
      "        result = []\n",
      "        for child_node in node: # A list of nodes, really\n",
      "            result += [parse_ast(child_node)]\n",
      "        return result\n",
      "    \n",
      "    # A node it seems\n",
      "    if '_ast' == getattr(node, '__module__', False):\n",
      "        result = {}\n",
      "        for k in node.__dict__:\n",
      "            result[k] = parse_ast(getattr(node, k))\n",
      "        # The original class would be nice if we want to reconstruct the tree\n",
      "        return node.__class__, result \n",
      "    \n",
      "    # Who knows what it is, just return it.\n",
      "    return node\n",
      "\n",
      "parse_ast(tree2)"
     ],
     "language": "python",
     "metadata": {},
     "outputs": [
      {
       "metadata": {},
       "output_type": "pyout",
       "prompt_number": 350,
       "text": [
        "(_ast.Module,\n",
        " {'body': [(_ast.Expr,\n",
        "    {'col_offset': 0,\n",
        "     'lineno': 1,\n",
        "     'value': (_ast.BinOp,\n",
        "      {'col_offset': 0,\n",
        "       'left': (_ast.Str, {'col_offset': 0, 'lineno': 1, 's': 'cat'}),\n",
        "       'lineno': 1,\n",
        "       'op': (_ast.BitXor, {}),\n",
        "       'right': (_ast.Str, {'col_offset': 8, 'lineno': 1, 's': 'dog'})})})]})"
       ]
      }
     ],
     "prompt_number": 350
    },
    {
     "cell_type": "markdown",
     "metadata": {},
     "source": [
      "Progress!! Now we get a nice and organized dict and lists of class and values. And now we can see the... stuff. Sure. So that `_ast.BitXor` seems interesting. But what does it mean?! (No one know what it means, it gets the people going!) Now that I'm here, it makes sense to think about what XORing two strings really means. Should it be algebraic? Or maybe fun? Ook ok ok. We won't use the caret (^) on two strings. Instead it will be between a string and a number. And that number is how far to rotate the string. And by \"rotate\" I mean increment the bytes. What you say? Allow me to take out every zig. All of them."
     ]
    },
    {
     "cell_type": "code",
     "collapsed": true,
     "input": [
      "def rotN(message, n):\n",
      "    result = ''\n",
      "    # Yes this could be a list comprehension. \n",
      "    # But now your eyes are not bleeding.\n",
      "    # You are welcome.\n",
      "    for c in message:\n",
      "        result += (unichr((ord((c)) + n))).encode('utf8') \n",
      "    return result \n",
      "\n",
      "\n",
      "# No one will ever guess it!!\n",
      "so_freaking_secret = rotN('Eu gousto de a\u00e7a\u00ed'.decode('utf8'), 4)\n",
      "print repr(so_freaking_secret)\n",
      "print so_freaking_secret"
     ],
     "language": "python",
     "metadata": {},
     "outputs": [
      {
       "output_type": "stream",
       "stream": "stdout",
       "text": [
        "'Iy$ksywxs$hi$e\\xc3\\xabe\\xc3\\xb1'\n",
        "Iy$ksywxs$hi$e\u00ebe\u00f1\n"
       ]
      }
     ],
     "prompt_number": 372
    },
    {
     "cell_type": "markdown",
     "metadata": {},
     "source": [
      "So now the question comes. How can I wedge in `rotN` where the `BitXor` is within the AST tree? What if this function were parsed into an AST as well, then everytime we come across a `BinOp` that has a `left` of `_ast.String` and a `right` with a `_ast.Num` and an `op` of `_ast.BitXor`, we substitute the AST of out new and impressive (and totaly secure) rotN function? Sounds like a plan!"
     ]
    },
    {
     "cell_type": "markdown",
     "metadata": {},
     "source": [
      "Can we parse this?"
     ]
    },
    {
     "cell_type": "code",
     "collapsed": false,
     "input": [
      "import inspect\n",
      "inspect.getsourcelines(rotN)"
     ],
     "language": "python",
     "metadata": {},
     "outputs": [
      {
       "metadata": {},
       "output_type": "pyout",
       "prompt_number": 376,
       "text": [
        "([u'def rotN(message, n):\\n',\n",
        "  u\"    result = ''\\n\",\n",
        "  u'    # Yes this could be a list comprehension. \\n',\n",
        "  u'    # But now your eyes are not bleeding.\\n',\n",
        "  u'    # You are welcome.\\n',\n",
        "  u'    for c in message:\\n',\n",
        "  u\"        result += (unichr((ord((c)) + n))).encode('utf8') \\n\",\n",
        "  u'    return result \\n'],\n",
        " 1)"
       ]
      }
     ],
     "prompt_number": 376
    },
    {
     "cell_type": "markdown",
     "metadata": {},
     "source": [
      "Quick! To the AST parser!!"
     ]
    },
    {
     "cell_type": "code",
     "collapsed": false,
     "input": [
      "rotN_source = '\\n'.join(inspect.getsourcelines(rotN)[0])\n",
      "rotN_tree = ast.parse(rotN_source)\n",
      "parse_ast(rotN_tree)"
     ],
     "language": "python",
     "metadata": {},
     "outputs": [
      {
       "metadata": {},
       "output_type": "pyout",
       "prompt_number": 381,
       "text": [
        "(_ast.Module,\n",
        " {'body': [(_ast.FunctionDef,\n",
        "    {'args': (_ast.arguments,\n",
        "      {'args': [(_ast.Name,\n",
        "         {'col_offset': 9,\n",
        "          'ctx': (_ast.Param, {}),\n",
        "          'id': 'message',\n",
        "          'lineno': 1}),\n",
        "        (_ast.Name,\n",
        "         {'col_offset': 18, 'ctx': (_ast.Param, {}), 'id': 'n', 'lineno': 1})],\n",
        "       'defaults': [],\n",
        "       'kwarg': None,\n",
        "       'vararg': None}),\n",
        "     'body': [(_ast.Assign,\n",
        "       {'col_offset': 4,\n",
        "        'lineno': 3,\n",
        "        'targets': [(_ast.Name,\n",
        "          {'col_offset': 4,\n",
        "           'ctx': (_ast.Store, {}),\n",
        "           'id': 'result',\n",
        "           'lineno': 3})],\n",
        "        'value': (_ast.Str, {'col_offset': 13, 'lineno': 3, 's': ''})}),\n",
        "      (_ast.For,\n",
        "       {'body': [(_ast.AugAssign,\n",
        "          {'col_offset': 8,\n",
        "           'lineno': 13,\n",
        "           'op': (_ast.Add, {}),\n",
        "           'target': (_ast.Name,\n",
        "            {'col_offset': 8,\n",
        "             'ctx': (_ast.Store, {}),\n",
        "             'id': 'result',\n",
        "             'lineno': 13}),\n",
        "           'value': (_ast.Call,\n",
        "            {'args': [(_ast.Str,\n",
        "               {'col_offset': 50, 'lineno': 13, 's': 'utf8'})],\n",
        "             'col_offset': 19,\n",
        "             'func': (_ast.Attribute,\n",
        "              {'attr': 'encode',\n",
        "               'col_offset': 19,\n",
        "               'ctx': (_ast.Load, {}),\n",
        "               'lineno': 13,\n",
        "               'value': (_ast.Call,\n",
        "                {'args': [(_ast.BinOp,\n",
        "                   {'col_offset': 27,\n",
        "                    'left': (_ast.Call,\n",
        "                     {'args': [(_ast.Name,\n",
        "                        {'col_offset': 32,\n",
        "                         'ctx': (_ast.Load, {}),\n",
        "                         'id': 'c',\n",
        "                         'lineno': 13})],\n",
        "                      'col_offset': 27,\n",
        "                      'func': (_ast.Name,\n",
        "                       {'col_offset': 27,\n",
        "                        'ctx': (_ast.Load, {}),\n",
        "                        'id': 'ord',\n",
        "                        'lineno': 13}),\n",
        "                      'keywords': [],\n",
        "                      'kwargs': None,\n",
        "                      'lineno': 13,\n",
        "                      'starargs': None}),\n",
        "                    'lineno': 13,\n",
        "                    'op': (_ast.Add, {}),\n",
        "                    'right': (_ast.Name,\n",
        "                     {'col_offset': 38,\n",
        "                      'ctx': (_ast.Load, {}),\n",
        "                      'id': 'n',\n",
        "                      'lineno': 13})})],\n",
        "                 'col_offset': 19,\n",
        "                 'func': (_ast.Name,\n",
        "                  {'col_offset': 19,\n",
        "                   'ctx': (_ast.Load, {}),\n",
        "                   'id': 'unichr',\n",
        "                   'lineno': 13}),\n",
        "                 'keywords': [],\n",
        "                 'kwargs': None,\n",
        "                 'lineno': 13,\n",
        "                 'starargs': None})}),\n",
        "             'keywords': [],\n",
        "             'kwargs': None,\n",
        "             'lineno': 13,\n",
        "             'starargs': None})})],\n",
        "        'col_offset': 4,\n",
        "        'iter': (_ast.Name,\n",
        "         {'col_offset': 13,\n",
        "          'ctx': (_ast.Load, {}),\n",
        "          'id': 'message',\n",
        "          'lineno': 11}),\n",
        "        'lineno': 11,\n",
        "        'orelse': [],\n",
        "        'target': (_ast.Name,\n",
        "         {'col_offset': 8,\n",
        "          'ctx': (_ast.Store, {}),\n",
        "          'id': 'c',\n",
        "          'lineno': 11})}),\n",
        "      (_ast.Return,\n",
        "       {'col_offset': 4,\n",
        "        'lineno': 15,\n",
        "        'value': (_ast.Name,\n",
        "         {'col_offset': 11,\n",
        "          'ctx': (_ast.Load, {}),\n",
        "          'id': 'result',\n",
        "          'lineno': 15})})],\n",
        "     'col_offset': 0,\n",
        "     'decorator_list': [],\n",
        "     'lineno': 1,\n",
        "     'name': 'rotN'})]})"
       ]
      }
     ],
     "prompt_number": 381
    },
    {
     "cell_type": "markdown",
     "metadata": {},
     "source": [
      "**Gnarly!** It worked. (I pronounced the \"g\" cause I've been in Germany for a while and they do that sort of thing. It is acutally satisfying and I would wholy suggest you give it a try. guh-NAR-ly.)"
     ]
    },
    {
     "cell_type": "code",
     "collapsed": false,
     "input": [
      "# So this still does not work. As expected, but let us see.....\n",
      "caret_string_tree = ast.parse(\"print 'Secret message: ','i like cheese' ^ 4\") \n",
      "exec(compile(caret_string_tree, filename=\"<ast>\", mode=\"exec\"))"
     ],
     "language": "python",
     "metadata": {},
     "outputs": [
      {
       "output_type": "stream",
       "stream": "stdout",
       "text": [
        "Secret message: "
       ]
      },
      {
       "ename": "TypeError",
       "evalue": "unsupported operand type(s) for ^: 'str' and 'int'",
       "output_type": "pyerr",
       "traceback": [
        "\u001b[1;31m---------------------------------------------------------------------------\u001b[0m\n\u001b[1;31mTypeError\u001b[0m                                 Traceback (most recent call last)",
        "\u001b[1;32m<ipython-input-477-e05450ad786b>\u001b[0m in \u001b[0;36m<module>\u001b[1;34m()\u001b[0m\n\u001b[0;32m      1\u001b[0m \u001b[1;31m# So this still does not work. As expected, but let us see.....\u001b[0m\u001b[1;33m\u001b[0m\u001b[1;33m\u001b[0m\u001b[0m\n\u001b[0;32m      2\u001b[0m \u001b[0mcaret_string_tree\u001b[0m \u001b[1;33m=\u001b[0m \u001b[0mast\u001b[0m\u001b[1;33m.\u001b[0m\u001b[0mparse\u001b[0m\u001b[1;33m(\u001b[0m\u001b[1;34m\"print 'Secret message: ','i like cheese' ^ 4\"\u001b[0m\u001b[1;33m)\u001b[0m\u001b[1;33m\u001b[0m\u001b[0m\n\u001b[1;32m----> 3\u001b[1;33m \u001b[1;32mexec\u001b[0m\u001b[1;33m(\u001b[0m\u001b[0mcompile\u001b[0m\u001b[1;33m(\u001b[0m\u001b[0mcaret_string_tree\u001b[0m\u001b[1;33m,\u001b[0m \u001b[0mfilename\u001b[0m\u001b[1;33m=\u001b[0m\u001b[1;34m\"<ast>\"\u001b[0m\u001b[1;33m,\u001b[0m \u001b[0mmode\u001b[0m\u001b[1;33m=\u001b[0m\u001b[1;34m\"exec\"\u001b[0m\u001b[1;33m)\u001b[0m\u001b[1;33m)\u001b[0m\u001b[1;33m\u001b[0m\u001b[0m\n\u001b[0m",
        "\u001b[1;32m<ast>\u001b[0m in \u001b[0;36m<module>\u001b[1;34m()\u001b[0m\n",
        "\u001b[1;31mTypeError\u001b[0m: unsupported operand type(s) for ^: 'str' and 'int'"
       ]
      }
     ],
     "prompt_number": 477
    },
    {
     "cell_type": "code",
     "collapsed": false,
     "input": [
      "parse_ast(caret_string_tree)"
     ],
     "language": "python",
     "metadata": {},
     "outputs": [
      {
       "metadata": {},
       "output_type": "pyout",
       "prompt_number": 478,
       "text": [
        "(_ast.Module,\n",
        " {'body': [(_ast.Print,\n",
        "    {'col_offset': 0,\n",
        "     'dest': None,\n",
        "     'lineno': 1,\n",
        "     'nl': True,\n",
        "     'values': [(_ast.Str,\n",
        "       {'col_offset': 6, 'lineno': 1, 's': 'Secret message: '}),\n",
        "      (_ast.BinOp,\n",
        "       {'col_offset': 25,\n",
        "        'left': (_ast.Str,\n",
        "         {'col_offset': 25, 'lineno': 1, 's': 'i like cheese'}),\n",
        "        'lineno': 1,\n",
        "        'op': (_ast.BitXor, {}),\n",
        "        'right': (_ast.Num, {'col_offset': 43, 'lineno': 1, 'n': 4})})]})]})"
       ]
      },
      {
       "output_type": "stream",
       "stream": "stdout",
       "text": [
        "\n"
       ]
      }
     ],
     "prompt_number": 478
    },
    {
     "cell_type": "markdown",
     "metadata": {},
     "source": [
      "So let's just brute force it. We could get elegant at a later time. But errr, so that `rotn` function is, well, a function. But we need to call something. I don't think this will be a drop in replacement. Perhaps this is more like a macro? Maybe the list comprehension was a good idea. I am sorry for laughing at you."
     ]
    },
    {
     "cell_type": "code",
     "collapsed": false,
     "input": [
      "message = 'Eu gousto de a\u00e7a\u00ed'\n",
      "n= 4\n",
      "''.join((unichr((ord((c)) + n))).encode('utf8') for c in message.decode('utf8'))\n",
      "# Ok. It's done."
     ],
     "language": "python",
     "metadata": {},
     "outputs": [
      {
       "metadata": {},
       "output_type": "pyout",
       "prompt_number": 393,
       "text": [
        "'Iy$ksywxs$hi$e\\xc3\\xabe\\xc3\\xb1'"
       ]
      }
     ],
     "prompt_number": 393
    },
    {
     "cell_type": "code",
     "collapsed": false,
     "input": [
      "single_line_rotn = ast.parse(\"''.join((unichr((ord((c)) + n))).encode('utf8') for c in message.decode('utf8'))\")\n",
      "parse_ast(single_line_rotn)"
     ],
     "language": "python",
     "metadata": {},
     "outputs": [
      {
       "metadata": {},
       "output_type": "pyout",
       "prompt_number": 397,
       "text": [
        "(_ast.Module,\n",
        " {'body': [(_ast.Expr,\n",
        "    {'col_offset': 0,\n",
        "     'lineno': 1,\n",
        "     'value': (_ast.Call,\n",
        "      {'args': [(_ast.GeneratorExp,\n",
        "         {'col_offset': 8,\n",
        "          'elt': (_ast.Call,\n",
        "           {'args': [(_ast.Str, {'col_offset': 40, 'lineno': 1, 's': 'utf8'})],\n",
        "            'col_offset': 9,\n",
        "            'func': (_ast.Attribute,\n",
        "             {'attr': 'encode',\n",
        "              'col_offset': 9,\n",
        "              'ctx': (_ast.Load, {}),\n",
        "              'lineno': 1,\n",
        "              'value': (_ast.Call,\n",
        "               {'args': [(_ast.BinOp,\n",
        "                  {'col_offset': 17,\n",
        "                   'left': (_ast.Call,\n",
        "                    {'args': [(_ast.Name,\n",
        "                       {'col_offset': 22,\n",
        "                        'ctx': (_ast.Load, {}),\n",
        "                        'id': 'c',\n",
        "                        'lineno': 1})],\n",
        "                     'col_offset': 17,\n",
        "                     'func': (_ast.Name,\n",
        "                      {'col_offset': 17,\n",
        "                       'ctx': (_ast.Load, {}),\n",
        "                       'id': 'ord',\n",
        "                       'lineno': 1}),\n",
        "                     'keywords': [],\n",
        "                     'kwargs': None,\n",
        "                     'lineno': 1,\n",
        "                     'starargs': None}),\n",
        "                   'lineno': 1,\n",
        "                   'op': (_ast.Add, {}),\n",
        "                   'right': (_ast.Name,\n",
        "                    {'col_offset': 28,\n",
        "                     'ctx': (_ast.Load, {}),\n",
        "                     'id': 'n',\n",
        "                     'lineno': 1})})],\n",
        "                'col_offset': 9,\n",
        "                'func': (_ast.Name,\n",
        "                 {'col_offset': 9,\n",
        "                  'ctx': (_ast.Load, {}),\n",
        "                  'id': 'unichr',\n",
        "                  'lineno': 1}),\n",
        "                'keywords': [],\n",
        "                'kwargs': None,\n",
        "                'lineno': 1,\n",
        "                'starargs': None})}),\n",
        "            'keywords': [],\n",
        "            'kwargs': None,\n",
        "            'lineno': 1,\n",
        "            'starargs': None}),\n",
        "          'generators': [(_ast.comprehension,\n",
        "            {'ifs': [],\n",
        "             'iter': (_ast.Call,\n",
        "              {'args': [(_ast.Str,\n",
        "                 {'col_offset': 72, 'lineno': 1, 's': 'utf8'})],\n",
        "               'col_offset': 57,\n",
        "               'func': (_ast.Attribute,\n",
        "                {'attr': 'decode',\n",
        "                 'col_offset': 57,\n",
        "                 'ctx': (_ast.Load, {}),\n",
        "                 'lineno': 1,\n",
        "                 'value': (_ast.Name,\n",
        "                  {'col_offset': 57,\n",
        "                   'ctx': (_ast.Load, {}),\n",
        "                   'id': 'message',\n",
        "                   'lineno': 1})}),\n",
        "               'keywords': [],\n",
        "               'kwargs': None,\n",
        "               'lineno': 1,\n",
        "               'starargs': None}),\n",
        "             'target': (_ast.Name,\n",
        "              {'col_offset': 52,\n",
        "               'ctx': (_ast.Store, {}),\n",
        "               'id': 'c',\n",
        "               'lineno': 1})})],\n",
        "          'lineno': 1})],\n",
        "       'col_offset': 0,\n",
        "       'func': (_ast.Attribute,\n",
        "        {'attr': 'join',\n",
        "         'col_offset': 0,\n",
        "         'ctx': (_ast.Load, {}),\n",
        "         'lineno': 1,\n",
        "         'value': (_ast.Str, {'col_offset': 0, 'lineno': 1, 's': ''})}),\n",
        "       'keywords': [],\n",
        "       'kwargs': None,\n",
        "       'lineno': 1,\n",
        "       'starargs': None})})]})"
       ]
      }
     ],
     "prompt_number": 397
    },
    {
     "cell_type": "markdown",
     "metadata": {},
     "source": [
      "OK OK OK! Let's try again. We need to get the `left` and `right` of the `BinOp` in question, and tuck in that nasty list comprehension you made me write in its place, with `left` repacing the variable `message` (variables are `_ast.Name`) and `right` with `n`."
     ]
    },
    {
     "cell_type": "code",
     "collapsed": false,
     "input": [
      "parse_ast(caret_string_tree)"
     ],
     "language": "python",
     "metadata": {},
     "outputs": [
      {
       "metadata": {},
       "output_type": "pyout",
       "prompt_number": 469,
       "text": [
        "(_ast.Module,\n",
        " {'body': [(_ast.Print,\n",
        "    {'col_offset': 0,\n",
        "     'dest': None,\n",
        "     'lineno': 1,\n",
        "     'nl': True,\n",
        "     'values': [(_ast.BinOp,\n",
        "       {'col_offset': 6,\n",
        "        'left': (_ast.Str,\n",
        "         {'col_offset': 6, 'lineno': 1, 's': 'i like cheese'}),\n",
        "        'lineno': 1,\n",
        "        'op': (_ast.BitXor, {}),\n",
        "        'right': (_ast.Num, {'col_offset': 24, 'lineno': 1, 'n': 4})})]})]})"
       ]
      }
     ],
     "prompt_number": 469
    },
    {
     "cell_type": "code",
     "collapsed": false,
     "input": [
      "# This is shameful, if I had space for more yaks, I would make a search a replace function. \n",
      "single_line_rotn.body[0].value.args[0].elt.func.value.args[0].right = caret_string_tree.body[0].values[1].right\n",
      "single_line_rotn.body[0].value.args[0].generators[0].iter.func.value = caret_string_tree.body[0].values[1].left\n",
      "caret_string_tree.body[0].values[1] = single_line_rotn.body[0].value\n",
      "\n",
      "# moment of truth.\n",
      "exec(compile(caret_string_tree, filename=\"<ast>\", mode=\"exec\"))"
     ],
     "language": "python",
     "metadata": {},
     "outputs": [
      {
       "output_type": "stream",
       "stream": "stdout",
       "text": [
        "Secret message:  m$pmoi$gliiwi\n"
       ]
      }
     ],
     "prompt_number": 479
    },
    {
     "cell_type": "code",
     "collapsed": false,
     "input": [
      "QED."
     ],
     "language": "python",
     "metadata": {},
     "outputs": []
    },
    {
     "cell_type": "markdown",
     "metadata": {},
     "source": [
      "In case you want to see the final AST. Here is it in all its parsiness. You can see where I added the original string \"i like cheese\"."
     ]
    },
    {
     "cell_type": "code",
     "collapsed": false,
     "input": [
      "parse_ast(caret_string_tree)"
     ],
     "language": "python",
     "metadata": {},
     "outputs": [
      {
       "metadata": {},
       "output_type": "pyout",
       "prompt_number": 480,
       "text": [
        "(_ast.Module,\n",
        " {'body': [(_ast.Print,\n",
        "    {'col_offset': 0,\n",
        "     'dest': None,\n",
        "     'lineno': 1,\n",
        "     'nl': True,\n",
        "     'values': [(_ast.Str,\n",
        "       {'col_offset': 6, 'lineno': 1, 's': 'Secret message: '}),\n",
        "      (_ast.Call,\n",
        "       {'args': [(_ast.GeneratorExp,\n",
        "          {'col_offset': 8,\n",
        "           'elt': (_ast.Call,\n",
        "            {'args': [(_ast.Str,\n",
        "               {'col_offset': 40, 'lineno': 1, 's': 'utf8'})],\n",
        "             'col_offset': 9,\n",
        "             'func': (_ast.Attribute,\n",
        "              {'attr': 'encode',\n",
        "               'col_offset': 9,\n",
        "               'ctx': (_ast.Load, {}),\n",
        "               'lineno': 1,\n",
        "               'value': (_ast.Call,\n",
        "                {'args': [(_ast.BinOp,\n",
        "                   {'col_offset': 17,\n",
        "                    'left': (_ast.Call,\n",
        "                     {'args': [(_ast.Name,\n",
        "                        {'col_offset': 22,\n",
        "                         'ctx': (_ast.Load, {}),\n",
        "                         'id': 'c',\n",
        "                         'lineno': 1})],\n",
        "                      'col_offset': 17,\n",
        "                      'func': (_ast.Name,\n",
        "                       {'col_offset': 17,\n",
        "                        'ctx': (_ast.Load, {}),\n",
        "                        'id': 'ord',\n",
        "                        'lineno': 1}),\n",
        "                      'keywords': [],\n",
        "                      'kwargs': None,\n",
        "                      'lineno': 1,\n",
        "                      'starargs': None}),\n",
        "                    'lineno': 1,\n",
        "                    'op': (_ast.Add, {}),\n",
        "                    'right': (_ast.Num,\n",
        "                     {'col_offset': 43, 'lineno': 1, 'n': 4})})],\n",
        "                 'col_offset': 9,\n",
        "                 'func': (_ast.Name,\n",
        "                  {'col_offset': 9,\n",
        "                   'ctx': (_ast.Load, {}),\n",
        "                   'id': 'unichr',\n",
        "                   'lineno': 1}),\n",
        "                 'keywords': [],\n",
        "                 'kwargs': None,\n",
        "                 'lineno': 1,\n",
        "                 'starargs': None})}),\n",
        "             'keywords': [],\n",
        "             'kwargs': None,\n",
        "             'lineno': 1,\n",
        "             'starargs': None}),\n",
        "           'generators': [(_ast.comprehension,\n",
        "             {'ifs': [],\n",
        "              'iter': (_ast.Call,\n",
        "               {'args': [(_ast.Str,\n",
        "                  {'col_offset': 72, 'lineno': 1, 's': 'utf8'})],\n",
        "                'col_offset': 57,\n",
        "                'func': (_ast.Attribute,\n",
        "                 {'attr': 'decode',\n",
        "                  'col_offset': 57,\n",
        "                  'ctx': (_ast.Load, {}),\n",
        "                  'lineno': 1,\n",
        "                  'value': (_ast.Str,\n",
        "                   {'col_offset': 25, 'lineno': 1, 's': 'i like cheese'})}),\n",
        "                'keywords': [],\n",
        "                'kwargs': None,\n",
        "                'lineno': 1,\n",
        "                'starargs': None}),\n",
        "              'target': (_ast.Name,\n",
        "               {'col_offset': 52,\n",
        "                'ctx': (_ast.Store, {}),\n",
        "                'id': 'c',\n",
        "                'lineno': 1})})],\n",
        "           'lineno': 1})],\n",
        "        'col_offset': 0,\n",
        "        'func': (_ast.Attribute,\n",
        "         {'attr': 'join',\n",
        "          'col_offset': 0,\n",
        "          'ctx': (_ast.Load, {}),\n",
        "          'lineno': 1,\n",
        "          'value': (_ast.Str, {'col_offset': 0, 'lineno': 1, 's': ''})}),\n",
        "        'keywords': [],\n",
        "        'kwargs': None,\n",
        "        'lineno': 1,\n",
        "        'starargs': None})]})]})"
       ]
      }
     ],
     "prompt_number": 480
    },
    {
     "cell_type": "code",
     "collapsed": false,
     "input": [],
     "language": "python",
     "metadata": {},
     "outputs": []
    }
   ],
   "metadata": {}
  }
 ]
}